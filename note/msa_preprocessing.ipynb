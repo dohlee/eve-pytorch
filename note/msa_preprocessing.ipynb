{
 "cells": [
  {
   "cell_type": "code",
   "execution_count": 1,
   "metadata": {},
   "outputs": [],
   "source": [
    "import pandas as pd\n",
    "import numpy as np"
   ]
  },
  {
   "cell_type": "code",
   "execution_count": 3,
   "metadata": {},
   "outputs": [
    {
     "name": "stdout",
     "output_type": "stream",
     "text": [
      ">P53_HUMAN/1-393\n",
      "meepqsdpsvepplsqetfsdlwkllpennvlsplpsqamddlmLSPDDIEQWFTEDPGpDEAPRMPEAAPPVAPAPAAP\n",
      "TPAAPAPAPSWPLSSSVPSQKTYQGSYGFRLGFLHSGTAKSVTCTYSPALNKMFCQLAKTCPVQLWVDSTPPPGTRVRAM\n",
      "AIYKQSQHMTEVVRRCPHHERCSDSDGLAPPQHLIRVEGNLRVEYLDDRNTFRHSVVVPYEPPEVGSDCTTIHYNYMCNS\n",
      "SCMGGMNRRPILTIITLEDSSGNLLGRNSFEVRVCACPGRDRRTEEENLRKKGEPHHELPPGSTKRALPNNTSSSPQPKK\n",
      "KPLDGEYFTLQIRGRERFEMFRELNEALELKDAQAGKEPGGSRAHSSHLKSKKGqstsrhkklmfktegpdsd\n",
      ">UniRef100_F7DUR2/39-453\n",
      "....sqssqtseflspevfqhiwdfleqsmdcirmqdadvsdpmWPQYTNLNSMDQQIQnGSSSTSPYNTDHAQNSVTAP\n",
      "SPYAQPSSTALSPSPAIPSNTDYPGPHSFDVSFQQSSTAKSATWTYSTELKKLYCQIAKTCPIQIKVMTPPPQGAVIRAM\n",
      "PVYKKAEHVTEVVKRCPNHELSRENEGIAPPSHLIRVEGNSHAQYVEDPITGRQSVLVPYEPPQVGTEFTTVLYNFMCNS\n",
      "SCVGGMNRRPILIIVTLETRDGQVLGRRCFEARICACPGRDRKADEDSIRKQQVSDSTKNGDGTKRPFRQSTHGIQMKKR\n",
      "RSPDDELLYLPVRGRETYEMLLKIKESLELMQYLPQHTIETYRQQQQQQHQHLLqkqssmqs...........\n",
      ">UniRef100_UPI000FFF6C48/41-455\n",
      "....sqstqtseflspevfqhiwdfleqsmdcirmqdsdlsdpmWPQYTNLNSMDQQIQnGSSSTSPYNTDHAQNSVTAP\n",
      "SPYAQPSSTALSPSPAIPSNTDYPGPHSFDVSFQQSSTAKSATWTYSTELKKLYCQIAKTCPIQIKVMTPPPQGAVIRAM\n",
      "PVYKKAEHVTEVVKRCPNHELSRENEGIAPPSHLIRVEGNSHAQYVEDPITGRQSVLVPYEPPQVGTEFTTVLYNFMCNS\n",
      "SCVGGMNRRPILIIVTLETRDGQVLGRRCFEARICACPGRDRKADEDSIRKQQVSDSTKNGDGTKRPFRQNTHGIQMKKR\n",
      "RSPDDELLYLPVRGRETYEMLLKIKESLELMQYLPQHTIETYRQQQQQQHQHLLqkqtsmqs...........\n",
      ">UniRef100_UPI000D182CD6/41-455\n",
      "....sqstqtseflspevfqhiwdfleqsmdcirmqdsdlsdpmWPQYTNLNSMDQQIQnGSSSTSPYNTDHAQNSVTAP\n"
     ]
    }
   ],
   "source": [
    "!head -n20 ../data/P53_HUMAN_b01.a2m"
   ]
  },
  {
   "cell_type": "markdown",
   "metadata": {},
   "source": [
    "## MSA preprocessing\n",
    "\n",
    "By default, sequences with 50% or more gaps in the alignment and/or positions with less than 70% residue occupancy will be removed. These parameters may be adjusted as needed by the end user.\n",
    "\n",
    "(1) filter columns that are not gaps in WT sequence\n",
    "\n",
    "(2) filter sequence with gap cutoff (<50%)\n",
    "\n",
    "(3) then filter columns also with gap cutoff (<30%) using filtered sequence.\n",
    "\n",
    "(4) filter sequence so that all sequences have canonical amino acids 'ACDEFGHIKLMNPQRSTVWY'"
   ]
  },
  {
   "cell_type": "code",
   "execution_count": 22,
   "metadata": {},
   "outputs": [
    {
     "name": "stdout",
     "output_type": "stream",
     "text": [
      "Initial MSA shape: (3668, 393)\n",
      "Filtered MSA shape: (3630, 329)\n",
      "Num sequences: 3630\n"
     ]
    }
   ],
   "source": [
    "from Bio import SeqIO\n",
    "\n",
    "canonical_aas = 'ACDEFGHIKLMNPQRSTVWY' + '-'\n",
    "\n",
    "a2m = SeqIO.parse('../data/P53_HUMAN_b01.a2m', 'fasta')\n",
    "ids, msa = [], []\n",
    "for i, r in enumerate(a2m):\n",
    "    ids.append(r.id)\n",
    "    msa.append(list(r.seq.upper().replace('.', '-')))\n",
    "    \n",
    "msa = np.array(msa)\n",
    "ids = np.array(ids)\n",
    "gap_mask = msa == '-'\n",
    "\n",
    "print('Initial MSA shape:', msa.shape)\n",
    "\n",
    "# Filter columns that are not gaps in WT sequence.\n",
    "is_gap_in_wt_mask = gap_mask[0]\n",
    "msa = msa[:, ~is_gap_in_wt_mask]\n",
    "gap_mask = msa == '-'\n",
    "\n",
    "# Filter sequence with gap cutoff.\n",
    "is_seq_to_keep_mask = gap_mask.mean(axis=1) < 0.5\n",
    "msa = msa[is_seq_to_keep_mask]\n",
    "ids = ids[is_seq_to_keep_mask]\n",
    "gap_mask = msa == '-'\n",
    "\n",
    "# Filter columns also with gap cutoff.\n",
    "is_col_to_keep_mask = gap_mask.mean(axis=0) < 0.3\n",
    "msa = msa[:, is_col_to_keep_mask]\n",
    "\n",
    "# Finally, filter sequence so that all sequences have canonical amino acids\n",
    "is_canonical_aa_mask = [all(aa in canonical_aas for aa in seq) for seq in msa]\n",
    "msa = msa[is_canonical_aa_mask]\n",
    "ids = ids[is_canonical_aa_mask]\n",
    "seqs = [''.join(s) for s in msa]\n",
    "\n",
    "print('Filtered MSA shape:', msa.shape)\n",
    "print('Num sequences:', len(seqs))"
   ]
  },
  {
   "cell_type": "markdown",
   "metadata": {},
   "source": [
    "### Save filtered MSA to a2m file."
   ]
  },
  {
   "cell_type": "code",
   "execution_count": 24,
   "metadata": {},
   "outputs": [],
   "source": [
    "from Bio.Seq import Seq\n",
    "\n",
    "sequences = [SeqIO.SeqRecord(Seq(s), id=id, name=id, description='') for s, id in zip(seqs, ids)]\n",
    "with open('../data/P53_HUMAN_b01.filtered.a2m', 'w') as outFile:\n",
    "    SeqIO.write(sequences, handle=outFile, format='fasta')"
   ]
  },
  {
   "cell_type": "code",
   "execution_count": null,
   "metadata": {},
   "outputs": [],
   "source": []
  }
 ],
 "metadata": {
  "kernelspec": {
   "display_name": "dohoon",
   "language": "python",
   "name": "dohoon"
  },
  "language_info": {
   "codemirror_mode": {
    "name": "ipython",
    "version": 3
   },
   "file_extension": ".py",
   "mimetype": "text/x-python",
   "name": "python",
   "nbconvert_exporter": "python",
   "pygments_lexer": "ipython3",
   "version": "3.9.13"
  }
 },
 "nbformat": 4,
 "nbformat_minor": 4
}
